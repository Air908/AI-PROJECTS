{
  "cells": [
    {
      "cell_type": "markdown",
      "metadata": {
        "id": "view-in-github",
        "colab_type": "text"
      },
      "source": [
        "<a href=\"https://colab.research.google.com/github/Air908/AI-PROJECTS/blob/main/GENERATIVE_AI_BASICS.ipynb\" target=\"_parent\"><img src=\"https://colab.research.google.com/assets/colab-badge.svg\" alt=\"Open In Colab\"/></a>"
      ]
    },
    {
      "cell_type": "markdown",
      "source": [
        "# Steam Tokenize"
      ],
      "metadata": {
        "id": "1a56MmfwyzqA"
      }
    },
    {
      "cell_type": "code",
      "source": [
        "import nltk\n",
        "nltk.download('punkt')\n",
        "from nltk.tokenize import sent_tokenize, word_tokenize"
      ],
      "metadata": {
        "colab": {
          "base_uri": "https://localhost:8080/"
        },
        "id": "odczx4UwsWux",
        "outputId": "77f2141c-ee25-4796-e12f-4ff0d2145d5e"
      },
      "execution_count": null,
      "outputs": [
        {
          "output_type": "stream",
          "name": "stderr",
          "text": [
            "[nltk_data] Downloading package punkt to /root/nltk_data...\n",
            "[nltk_data]   Unzipping tokenizers/punkt.zip.\n"
          ]
        }
      ]
    },
    {
      "cell_type": "code",
      "source": [
        "example =  \"\"\" The bibliography of George Orwell includes journalism, essays, novels, and non-fiction books written by the British writer Eric Blair (1903–1950), either under his own name or, more usually, under his pen name George Orwell. Orwell was a prolific writer on topics related to contemporary English society and literary criticism, who has been declared \"perhaps the 20th century's best chronicler of English culture.\"[1] His non-fiction cultural and political criticism constitutes the majority of his work, but Orwell also wrote in several genres of fictional literature.\n",
        "Orwell is best remembered for his political commentary as a left-wing anti-totalitarian. As he explained in the essay \"Why I Write\" (1946), \"Every line of serious work that I have written since 1936 has been written, directly or indirectly, against totalitarianism and for democratic socialism, as I understand it.\"[2] To that end, Orwell used his fiction as well as his journalism to defend his political convictions. He first achieved widespread acclaim with his fictional novella Animal Farm and cemented his place in history with the publication of Nineteen Eighty-Four shortly before his death. While fiction accounts for a small fraction of his total output, these two novels are his best-selling works, having sold almost fifty million copies in sixty-two languages by 2007—more than any other pair of books by a twentieth-century author.[3]\n",
        "Orwell wrote non-fiction—including book reviews, editorials, and investigative journalism—for a variety of British periodicals. In his lifetime he published hundreds of articles including several regular columns in British newsweeklies related to literary and cultural criticism as well as his explicitly political writing. In addition he wrote book-length investigations of poverty in Britain in the form of Down and Out in Paris and London and The Road to Wigan Pier and one of the first retrospectives on the Spanish Civil War in Homage to Catalonia. Between 1941 and 1946 he also wrote fifteen \"London Letters\" for the American political and literary quarterly Partisan Review, the first of which appeared in the issue dated March–April 1941.\n",
        "Only two compilations of Orwell's body of work were published in his lifetime, but since his death over a dozen collected editions have appeared. Two attempts have been made at comprehensive collections: The Collected Essays, Journalism and Letters in four volumes (1968, 1970), co-edited by Ian Angus and Orwell's widow Sonia Brownell; and The Complete Works of George Orwell, in 20 volumes, edited by Peter Davison, which began publication in the mid-1980s. The latter includes an addendum, The Lost Orwell (2007).\n",
        "The impact of Orwell's large corpus is manifested in additions to the Western canon such as Nineteen Eighty-Four, its subjection to continued public notice and scholarly analyses, and the changes to vernacular English it has effected—notably the adoption of \"Orwellian\" as a description of totalitarian societies.\"\"\""
      ],
      "metadata": {
        "id": "1VtAyjR1sZ8L"
      },
      "execution_count": null,
      "outputs": []
    },
    {
      "cell_type": "code",
      "source": [
        "sent_tokenize(example)"
      ],
      "metadata": {
        "colab": {
          "base_uri": "https://localhost:8080/"
        },
        "id": "nqy_ysS0sfGu",
        "outputId": "995afa6d-2e2f-4478-d244-83540952a3fa"
      },
      "execution_count": null,
      "outputs": [
        {
          "output_type": "execute_result",
          "data": {
            "text/plain": [
              "[' The bibliography of George Orwell includes journalism, essays, novels, and non-fiction books written by the British writer Eric Blair (1903–1950), either under his own name or, more usually, under his pen name George Orwell.',\n",
              " 'Orwell was a prolific writer on topics related to contemporary English society and literary criticism, who has been declared \"perhaps the 20th century\\'s best chronicler of English culture.',\n",
              " '\"[1] His non-fiction cultural and political criticism constitutes the majority of his work, but Orwell also wrote in several genres of fictional literature.',\n",
              " 'Orwell is best remembered for his political commentary as a left-wing anti-totalitarian.',\n",
              " 'As he explained in the essay \"Why I Write\" (1946), \"Every line of serious work that I have written since 1936 has been written, directly or indirectly, against totalitarianism and for democratic socialism, as I understand it.',\n",
              " '\"[2] To that end, Orwell used his fiction as well as his journalism to defend his political convictions.',\n",
              " 'He first achieved widespread acclaim with his fictional novella Animal Farm and cemented his place in history with the publication of Nineteen Eighty-Four shortly before his death.',\n",
              " 'While fiction accounts for a small fraction of his total output, these two novels are his best-selling works, having sold almost fifty million copies in sixty-two languages by 2007—more than any other pair of books by a twentieth-century author.',\n",
              " '[3]\\nOrwell wrote non-fiction—including book reviews, editorials, and investigative journalism—for a variety of British periodicals.',\n",
              " 'In his lifetime he published hundreds of articles including several regular columns in British newsweeklies related to literary and cultural criticism as well as his explicitly political writing.',\n",
              " 'In addition he wrote book-length investigations of poverty in Britain in the form of Down and Out in Paris and London and The Road to Wigan Pier and one of the first retrospectives on the Spanish Civil War in Homage to Catalonia.',\n",
              " 'Between 1941 and 1946 he also wrote fifteen \"London Letters\" for the American political and literary quarterly Partisan Review, the first of which appeared in the issue dated March–April 1941.',\n",
              " \"Only two compilations of Orwell's body of work were published in his lifetime, but since his death over a dozen collected editions have appeared.\",\n",
              " \"Two attempts have been made at comprehensive collections: The Collected Essays, Journalism and Letters in four volumes (1968, 1970), co-edited by Ian Angus and Orwell's widow Sonia Brownell; and The Complete Works of George Orwell, in 20 volumes, edited by Peter Davison, which began publication in the mid-1980s.\",\n",
              " 'The latter includes an addendum, The Lost Orwell (2007).',\n",
              " 'The impact of Orwell\\'s large corpus is manifested in additions to the Western canon such as Nineteen Eighty-Four, its subjection to continued public notice and scholarly analyses, and the changes to vernacular English it has effected—notably the adoption of \"Orwellian\" as a description of totalitarian societies.']"
            ]
          },
          "metadata": {},
          "execution_count": 4
        }
      ]
    },
    {
      "cell_type": "markdown",
      "source": [
        "# Word Tokenize"
      ],
      "metadata": {
        "id": "gN8AXCoEych_"
      }
    },
    {
      "cell_type": "code",
      "source": [
        "word_tokenize(example)"
      ],
      "metadata": {
        "colab": {
          "base_uri": "https://localhost:8080/"
        },
        "id": "H2hj1JmztMQu",
        "outputId": "466f8e6a-83f4-4be5-df04-5686c60665d8"
      },
      "execution_count": null,
      "outputs": [
        {
          "output_type": "execute_result",
          "data": {
            "text/plain": [
              "['The',\n",
              " 'bibliography',\n",
              " 'of',\n",
              " 'George',\n",
              " 'Orwell',\n",
              " 'includes',\n",
              " 'journalism',\n",
              " ',',\n",
              " 'essays',\n",
              " ',',\n",
              " 'novels',\n",
              " ',',\n",
              " 'and',\n",
              " 'non-fiction',\n",
              " 'books',\n",
              " 'written',\n",
              " 'by',\n",
              " 'the',\n",
              " 'British',\n",
              " 'writer',\n",
              " 'Eric',\n",
              " 'Blair',\n",
              " '(',\n",
              " '1903–1950',\n",
              " ')',\n",
              " ',',\n",
              " 'either',\n",
              " 'under',\n",
              " 'his',\n",
              " 'own',\n",
              " 'name',\n",
              " 'or',\n",
              " ',',\n",
              " 'more',\n",
              " 'usually',\n",
              " ',',\n",
              " 'under',\n",
              " 'his',\n",
              " 'pen',\n",
              " 'name',\n",
              " 'George',\n",
              " 'Orwell',\n",
              " '.',\n",
              " 'Orwell',\n",
              " 'was',\n",
              " 'a',\n",
              " 'prolific',\n",
              " 'writer',\n",
              " 'on',\n",
              " 'topics',\n",
              " 'related',\n",
              " 'to',\n",
              " 'contemporary',\n",
              " 'English',\n",
              " 'society',\n",
              " 'and',\n",
              " 'literary',\n",
              " 'criticism',\n",
              " ',',\n",
              " 'who',\n",
              " 'has',\n",
              " 'been',\n",
              " 'declared',\n",
              " '``',\n",
              " 'perhaps',\n",
              " 'the',\n",
              " '20th',\n",
              " 'century',\n",
              " \"'s\",\n",
              " 'best',\n",
              " 'chronicler',\n",
              " 'of',\n",
              " 'English',\n",
              " 'culture',\n",
              " '.',\n",
              " '``',\n",
              " '[',\n",
              " '1',\n",
              " ']',\n",
              " 'His',\n",
              " 'non-fiction',\n",
              " 'cultural',\n",
              " 'and',\n",
              " 'political',\n",
              " 'criticism',\n",
              " 'constitutes',\n",
              " 'the',\n",
              " 'majority',\n",
              " 'of',\n",
              " 'his',\n",
              " 'work',\n",
              " ',',\n",
              " 'but',\n",
              " 'Orwell',\n",
              " 'also',\n",
              " 'wrote',\n",
              " 'in',\n",
              " 'several',\n",
              " 'genres',\n",
              " 'of',\n",
              " 'fictional',\n",
              " 'literature',\n",
              " '.',\n",
              " 'Orwell',\n",
              " 'is',\n",
              " 'best',\n",
              " 'remembered',\n",
              " 'for',\n",
              " 'his',\n",
              " 'political',\n",
              " 'commentary',\n",
              " 'as',\n",
              " 'a',\n",
              " 'left-wing',\n",
              " 'anti-totalitarian',\n",
              " '.',\n",
              " 'As',\n",
              " 'he',\n",
              " 'explained',\n",
              " 'in',\n",
              " 'the',\n",
              " 'essay',\n",
              " '``',\n",
              " 'Why',\n",
              " 'I',\n",
              " 'Write',\n",
              " \"''\",\n",
              " '(',\n",
              " '1946',\n",
              " ')',\n",
              " ',',\n",
              " '``',\n",
              " 'Every',\n",
              " 'line',\n",
              " 'of',\n",
              " 'serious',\n",
              " 'work',\n",
              " 'that',\n",
              " 'I',\n",
              " 'have',\n",
              " 'written',\n",
              " 'since',\n",
              " '1936',\n",
              " 'has',\n",
              " 'been',\n",
              " 'written',\n",
              " ',',\n",
              " 'directly',\n",
              " 'or',\n",
              " 'indirectly',\n",
              " ',',\n",
              " 'against',\n",
              " 'totalitarianism',\n",
              " 'and',\n",
              " 'for',\n",
              " 'democratic',\n",
              " 'socialism',\n",
              " ',',\n",
              " 'as',\n",
              " 'I',\n",
              " 'understand',\n",
              " 'it',\n",
              " '.',\n",
              " '``',\n",
              " '[',\n",
              " '2',\n",
              " ']',\n",
              " 'To',\n",
              " 'that',\n",
              " 'end',\n",
              " ',',\n",
              " 'Orwell',\n",
              " 'used',\n",
              " 'his',\n",
              " 'fiction',\n",
              " 'as',\n",
              " 'well',\n",
              " 'as',\n",
              " 'his',\n",
              " 'journalism',\n",
              " 'to',\n",
              " 'defend',\n",
              " 'his',\n",
              " 'political',\n",
              " 'convictions',\n",
              " '.',\n",
              " 'He',\n",
              " 'first',\n",
              " 'achieved',\n",
              " 'widespread',\n",
              " 'acclaim',\n",
              " 'with',\n",
              " 'his',\n",
              " 'fictional',\n",
              " 'novella',\n",
              " 'Animal',\n",
              " 'Farm',\n",
              " 'and',\n",
              " 'cemented',\n",
              " 'his',\n",
              " 'place',\n",
              " 'in',\n",
              " 'history',\n",
              " 'with',\n",
              " 'the',\n",
              " 'publication',\n",
              " 'of',\n",
              " 'Nineteen',\n",
              " 'Eighty-Four',\n",
              " 'shortly',\n",
              " 'before',\n",
              " 'his',\n",
              " 'death',\n",
              " '.',\n",
              " 'While',\n",
              " 'fiction',\n",
              " 'accounts',\n",
              " 'for',\n",
              " 'a',\n",
              " 'small',\n",
              " 'fraction',\n",
              " 'of',\n",
              " 'his',\n",
              " 'total',\n",
              " 'output',\n",
              " ',',\n",
              " 'these',\n",
              " 'two',\n",
              " 'novels',\n",
              " 'are',\n",
              " 'his',\n",
              " 'best-selling',\n",
              " 'works',\n",
              " ',',\n",
              " 'having',\n",
              " 'sold',\n",
              " 'almost',\n",
              " 'fifty',\n",
              " 'million',\n",
              " 'copies',\n",
              " 'in',\n",
              " 'sixty-two',\n",
              " 'languages',\n",
              " 'by',\n",
              " '2007—more',\n",
              " 'than',\n",
              " 'any',\n",
              " 'other',\n",
              " 'pair',\n",
              " 'of',\n",
              " 'books',\n",
              " 'by',\n",
              " 'a',\n",
              " 'twentieth-century',\n",
              " 'author',\n",
              " '.',\n",
              " '[',\n",
              " '3',\n",
              " ']',\n",
              " 'Orwell',\n",
              " 'wrote',\n",
              " 'non-fiction—including',\n",
              " 'book',\n",
              " 'reviews',\n",
              " ',',\n",
              " 'editorials',\n",
              " ',',\n",
              " 'and',\n",
              " 'investigative',\n",
              " 'journalism—for',\n",
              " 'a',\n",
              " 'variety',\n",
              " 'of',\n",
              " 'British',\n",
              " 'periodicals',\n",
              " '.',\n",
              " 'In',\n",
              " 'his',\n",
              " 'lifetime',\n",
              " 'he',\n",
              " 'published',\n",
              " 'hundreds',\n",
              " 'of',\n",
              " 'articles',\n",
              " 'including',\n",
              " 'several',\n",
              " 'regular',\n",
              " 'columns',\n",
              " 'in',\n",
              " 'British',\n",
              " 'newsweeklies',\n",
              " 'related',\n",
              " 'to',\n",
              " 'literary',\n",
              " 'and',\n",
              " 'cultural',\n",
              " 'criticism',\n",
              " 'as',\n",
              " 'well',\n",
              " 'as',\n",
              " 'his',\n",
              " 'explicitly',\n",
              " 'political',\n",
              " 'writing',\n",
              " '.',\n",
              " 'In',\n",
              " 'addition',\n",
              " 'he',\n",
              " 'wrote',\n",
              " 'book-length',\n",
              " 'investigations',\n",
              " 'of',\n",
              " 'poverty',\n",
              " 'in',\n",
              " 'Britain',\n",
              " 'in',\n",
              " 'the',\n",
              " 'form',\n",
              " 'of',\n",
              " 'Down',\n",
              " 'and',\n",
              " 'Out',\n",
              " 'in',\n",
              " 'Paris',\n",
              " 'and',\n",
              " 'London',\n",
              " 'and',\n",
              " 'The',\n",
              " 'Road',\n",
              " 'to',\n",
              " 'Wigan',\n",
              " 'Pier',\n",
              " 'and',\n",
              " 'one',\n",
              " 'of',\n",
              " 'the',\n",
              " 'first',\n",
              " 'retrospectives',\n",
              " 'on',\n",
              " 'the',\n",
              " 'Spanish',\n",
              " 'Civil',\n",
              " 'War',\n",
              " 'in',\n",
              " 'Homage',\n",
              " 'to',\n",
              " 'Catalonia',\n",
              " '.',\n",
              " 'Between',\n",
              " '1941',\n",
              " 'and',\n",
              " '1946',\n",
              " 'he',\n",
              " 'also',\n",
              " 'wrote',\n",
              " 'fifteen',\n",
              " '``',\n",
              " 'London',\n",
              " 'Letters',\n",
              " \"''\",\n",
              " 'for',\n",
              " 'the',\n",
              " 'American',\n",
              " 'political',\n",
              " 'and',\n",
              " 'literary',\n",
              " 'quarterly',\n",
              " 'Partisan',\n",
              " 'Review',\n",
              " ',',\n",
              " 'the',\n",
              " 'first',\n",
              " 'of',\n",
              " 'which',\n",
              " 'appeared',\n",
              " 'in',\n",
              " 'the',\n",
              " 'issue',\n",
              " 'dated',\n",
              " 'March–April',\n",
              " '1941',\n",
              " '.',\n",
              " 'Only',\n",
              " 'two',\n",
              " 'compilations',\n",
              " 'of',\n",
              " 'Orwell',\n",
              " \"'s\",\n",
              " 'body',\n",
              " 'of',\n",
              " 'work',\n",
              " 'were',\n",
              " 'published',\n",
              " 'in',\n",
              " 'his',\n",
              " 'lifetime',\n",
              " ',',\n",
              " 'but',\n",
              " 'since',\n",
              " 'his',\n",
              " 'death',\n",
              " 'over',\n",
              " 'a',\n",
              " 'dozen',\n",
              " 'collected',\n",
              " 'editions',\n",
              " 'have',\n",
              " 'appeared',\n",
              " '.',\n",
              " 'Two',\n",
              " 'attempts',\n",
              " 'have',\n",
              " 'been',\n",
              " 'made',\n",
              " 'at',\n",
              " 'comprehensive',\n",
              " 'collections',\n",
              " ':',\n",
              " 'The',\n",
              " 'Collected',\n",
              " 'Essays',\n",
              " ',',\n",
              " 'Journalism',\n",
              " 'and',\n",
              " 'Letters',\n",
              " 'in',\n",
              " 'four',\n",
              " 'volumes',\n",
              " '(',\n",
              " '1968',\n",
              " ',',\n",
              " '1970',\n",
              " ')',\n",
              " ',',\n",
              " 'co-edited',\n",
              " 'by',\n",
              " 'Ian',\n",
              " 'Angus',\n",
              " 'and',\n",
              " 'Orwell',\n",
              " \"'s\",\n",
              " 'widow',\n",
              " 'Sonia',\n",
              " 'Brownell',\n",
              " ';',\n",
              " 'and',\n",
              " 'The',\n",
              " 'Complete',\n",
              " 'Works',\n",
              " 'of',\n",
              " 'George',\n",
              " 'Orwell',\n",
              " ',',\n",
              " 'in',\n",
              " '20',\n",
              " 'volumes',\n",
              " ',',\n",
              " 'edited',\n",
              " 'by',\n",
              " 'Peter',\n",
              " 'Davison',\n",
              " ',',\n",
              " 'which',\n",
              " 'began',\n",
              " 'publication',\n",
              " 'in',\n",
              " 'the',\n",
              " 'mid-1980s',\n",
              " '.',\n",
              " 'The',\n",
              " 'latter',\n",
              " 'includes',\n",
              " 'an',\n",
              " 'addendum',\n",
              " ',',\n",
              " 'The',\n",
              " 'Lost',\n",
              " 'Orwell',\n",
              " '(',\n",
              " '2007',\n",
              " ')',\n",
              " '.',\n",
              " 'The',\n",
              " 'impact',\n",
              " 'of',\n",
              " 'Orwell',\n",
              " \"'s\",\n",
              " 'large',\n",
              " 'corpus',\n",
              " 'is',\n",
              " 'manifested',\n",
              " 'in',\n",
              " 'additions',\n",
              " 'to',\n",
              " 'the',\n",
              " 'Western',\n",
              " 'canon',\n",
              " 'such',\n",
              " 'as',\n",
              " 'Nineteen',\n",
              " 'Eighty-Four',\n",
              " ',',\n",
              " 'its',\n",
              " 'subjection',\n",
              " 'to',\n",
              " 'continued',\n",
              " 'public',\n",
              " 'notice',\n",
              " 'and',\n",
              " 'scholarly',\n",
              " 'analyses',\n",
              " ',',\n",
              " 'and',\n",
              " 'the',\n",
              " 'changes',\n",
              " 'to',\n",
              " 'vernacular',\n",
              " 'English',\n",
              " 'it',\n",
              " 'has',\n",
              " 'effected—notably',\n",
              " 'the',\n",
              " 'adoption',\n",
              " 'of',\n",
              " '``',\n",
              " 'Orwellian',\n",
              " \"''\",\n",
              " 'as',\n",
              " 'a',\n",
              " 'description',\n",
              " 'of',\n",
              " 'totalitarian',\n",
              " 'societies',\n",
              " '.']"
            ]
          },
          "metadata": {},
          "execution_count": 11
        }
      ]
    },
    {
      "cell_type": "markdown",
      "source": [
        "# STOP WORDS"
      ],
      "metadata": {
        "id": "vRNMgis5vXxE"
      }
    },
    {
      "cell_type": "code",
      "source": [
        "import nltk\n",
        "nltk.download(\"stopwords\")\n",
        "from nltk.corpus import stopwords"
      ],
      "metadata": {
        "colab": {
          "base_uri": "https://localhost:8080/"
        },
        "id": "HaNxXt_-vaT7",
        "outputId": "959dd441-ed96-45a2-f978-e59fb2f20b4e"
      },
      "execution_count": null,
      "outputs": [
        {
          "output_type": "stream",
          "name": "stderr",
          "text": [
            "[nltk_data] Downloading package stopwords to /root/nltk_data...\n",
            "[nltk_data]   Unzipping corpora/stopwords.zip.\n"
          ]
        }
      ]
    },
    {
      "cell_type": "code",
      "source": [
        "worf_quotes = \"\"\" Colab, or \"Colaboratory\", allows you to write and execute Python in your browser, with . Zero configuration required; Access to GPUs free of charge; Easy sharing; Whether you're a …\"\"\"\n",
        "words_in_quote = word_tokenize(worf_quotes)\n",
        "print(words_in_quote)"
      ],
      "metadata": {
        "colab": {
          "base_uri": "https://localhost:8080/"
        },
        "id": "0h3XXchlwgtG",
        "outputId": "c5863563-7d4e-43e0-e3b6-67f22c82bd91"
      },
      "execution_count": null,
      "outputs": [
        {
          "output_type": "stream",
          "name": "stdout",
          "text": [
            "['Colab', ',', 'or', '``', 'Colaboratory', \"''\", ',', 'allows', 'you', 'to', 'write', 'and', 'execute', 'Python', 'in', 'your', 'browser', ',', 'with', '.', 'Zero', 'configuration', 'required', ';', 'Access', 'to', 'GPUs', 'free', 'of', 'charge', ';', 'Easy', 'sharing', ';', 'Whether', 'you', \"'re\", 'a', '…']\n"
          ]
        }
      ]
    },
    {
      "cell_type": "code",
      "source": [
        "stop_words = set(stopwords.words(\"english\"))\n",
        "filtered_list = []\n",
        "for word in words_in_quote:\n",
        "  if word.casefold() not in stop_words:\n",
        "    filtered_list.append(word)\n",
        "print(filtered_list)"
      ],
      "metadata": {
        "colab": {
          "base_uri": "https://localhost:8080/"
        },
        "id": "AyO57qjoxfiO",
        "outputId": "8fdd612d-077a-48f7-de0c-aafbf626c7a0"
      },
      "execution_count": null,
      "outputs": [
        {
          "output_type": "stream",
          "name": "stdout",
          "text": [
            "['Colab', ',', '``', 'Colaboratory', \"''\", ',', 'allows', 'write', 'execute', 'Python', 'browser', ',', '.', 'Zero', 'configuration', 'required', ';', 'Access', 'GPUs', 'free', 'charge', ';', 'Easy', 'sharing', ';', 'Whether', \"'re\", '…']\n"
          ]
        }
      ]
    },
    {
      "cell_type": "markdown",
      "source": [
        "# Stemming"
      ],
      "metadata": {
        "id": "S77h8krcyuVJ"
      }
    },
    {
      "cell_type": "code",
      "source": [
        "import nltk\n",
        "nltk.download(\"punkt\")\n",
        "from nltk.stem import PorterStemmer\n",
        "from nltk.tokenize import word_tokenize"
      ],
      "metadata": {
        "colab": {
          "base_uri": "https://localhost:8080/"
        },
        "id": "KgimTSNpIpaG",
        "outputId": "f99f54cd-23e6-4c16-aa0f-a4c911720400"
      },
      "execution_count": 2,
      "outputs": [
        {
          "output_type": "stream",
          "name": "stderr",
          "text": [
            "[nltk_data] Downloading package punkt to /root/nltk_data...\n",
            "[nltk_data]   Package punkt is already up-to-date!\n"
          ]
        }
      ]
    },
    {
      "cell_type": "code",
      "source": [
        "stemmer = PorterStemmer()\n",
        "string_for_stemmer = \"\"\"Modernise your apps and services on Google Cloud's scalable infrastructure. Build, test and deploy with ease. Get $300 to try Google Cloud now.\n",
        "Deploy at Google scale.\"\"\""
      ],
      "metadata": {
        "id": "pThV51pkRLDw"
      },
      "execution_count": 5,
      "outputs": []
    },
    {
      "cell_type": "code",
      "source": [
        "words = word_tokenize(string_for_stemmer)\n",
        "print(words)"
      ],
      "metadata": {
        "colab": {
          "base_uri": "https://localhost:8080/"
        },
        "id": "Gwix9QAqRwJu",
        "outputId": "3886d8b7-b3df-43b8-8634-157330e35b74"
      },
      "execution_count": 7,
      "outputs": [
        {
          "output_type": "stream",
          "name": "stdout",
          "text": [
            "['Modernise', 'your', 'apps', 'and', 'services', 'on', 'Google', 'Cloud', \"'s\", 'scalable', 'infrastructure', '.', 'Build', ',', 'test', 'and', 'deploy', 'with', 'ease', '.', 'Get', '$', '300', 'to', 'try', 'Google', 'Cloud', 'now', '.', 'Deploy', 'at', 'Google', 'scale', '.']\n"
          ]
        }
      ]
    },
    {
      "cell_type": "code",
      "source": [
        "stemmed_words = [stemmer.stem(word) for word in words]\n",
        "print(stemmed_words)"
      ],
      "metadata": {
        "colab": {
          "base_uri": "https://localhost:8080/"
        },
        "id": "2bjpmPwtSSFV",
        "outputId": "32eb8ead-899c-4138-f064-f31cfdd5ad42"
      },
      "execution_count": 8,
      "outputs": [
        {
          "output_type": "stream",
          "name": "stdout",
          "text": [
            "['modernis', 'your', 'app', 'and', 'servic', 'on', 'googl', 'cloud', \"'s\", 'scalabl', 'infrastructur', '.', 'build', ',', 'test', 'and', 'deploy', 'with', 'eas', '.', 'get', '$', '300', 'to', 'tri', 'googl', 'cloud', 'now', '.', 'deploy', 'at', 'googl', 'scale', '.']\n"
          ]
        }
      ]
    },
    {
      "cell_type": "markdown",
      "source": [
        "# Lemmatization\n",
        "Adding tenses,verbs,gender,etc"
      ],
      "metadata": {
        "id": "tRfx7-zSUaXF"
      }
    },
    {
      "cell_type": "code",
      "source": [
        "import nltk\n",
        "nltk.download(\"punkt\")\n",
        "nltk.download(\"wordnet\")\n",
        "from nltk.stem import WordNetLemmatizer"
      ],
      "metadata": {
        "colab": {
          "base_uri": "https://localhost:8080/"
        },
        "id": "ud6rv7MSUxsi",
        "outputId": "40c87f3f-588e-4fdc-a305-f148f6bd264d"
      },
      "execution_count": 10,
      "outputs": [
        {
          "output_type": "stream",
          "name": "stderr",
          "text": [
            "[nltk_data] Downloading package punkt to /root/nltk_data...\n",
            "[nltk_data]   Package punkt is already up-to-date!\n",
            "[nltk_data] Downloading package wordnet to /root/nltk_data...\n",
            "[nltk_data]   Package wordnet is already up-to-date!\n"
          ]
        }
      ]
    },
    {
      "cell_type": "code",
      "source": [
        "lemmatizer = WordNetLemmatizer()\n",
        "#lemmatizing a pural noun :\n",
        "lemmatizer.lemmatize(\"services\")"
      ],
      "metadata": {
        "colab": {
          "base_uri": "https://localhost:8080/",
          "height": 35
        },
        "id": "kqkaj-ZvV9-f",
        "outputId": "2b4ad08c-90da-4125-acbf-8eb406645c2e"
      },
      "execution_count": 26,
      "outputs": [
        {
          "output_type": "execute_result",
          "data": {
            "text/plain": [
              "'service'"
            ],
            "application/vnd.google.colaboratory.intrinsic+json": {
              "type": "string"
            }
          },
          "metadata": {},
          "execution_count": 26
        }
      ]
    },
    {
      "cell_type": "code",
      "source": [
        "string_for_lemmatizing = \"Modernise your apps and services on Google Cloud's scalable infrastructure.\"\n",
        "words = word_tokenize(string_for_lemmatizing)\n",
        "print(words)"
      ],
      "metadata": {
        "colab": {
          "base_uri": "https://localhost:8080/"
        },
        "id": "0d8HMHEgX2Pv",
        "outputId": "c0338bf2-89ef-4d51-c8d5-a5f398794a72"
      },
      "execution_count": 21,
      "outputs": [
        {
          "output_type": "stream",
          "name": "stdout",
          "text": [
            "['Modernise', 'your', 'apps', 'and', 'services', 'on', 'Google', 'Cloud', \"'s\", 'scalable', 'infrastructure', '.']\n"
          ]
        }
      ]
    },
    {
      "cell_type": "code",
      "source": [
        "#list containing all the words in words after they've been lemmatized\n",
        "lemmatized_words =[lemmatizer.lemmatize(word) for word in words ]\n",
        "print(lemmatized_words)\n"
      ],
      "metadata": {
        "colab": {
          "base_uri": "https://localhost:8080/"
        },
        "id": "GbfDlcMFYz1B",
        "outputId": "ad89e590-7d76-4dfd-945f-3d1730fdef8c"
      },
      "execution_count": 25,
      "outputs": [
        {
          "output_type": "stream",
          "name": "stdout",
          "text": [
            "['Modernise', 'your', 'apps', 'and', 'service', 'on', 'Google', 'Cloud', \"'s\", 'scalable', 'infrastructure', '.']\n"
          ]
        }
      ]
    },
    {
      "cell_type": "markdown",
      "source": [
        "# POS\n",
        "Parts OF SPEECH"
      ],
      "metadata": {
        "id": "Fs3j3T1GcbUy"
      }
    },
    {
      "cell_type": "code",
      "source": [
        "import nltk\n",
        "nltk.download('averaged_perceptron_tagger')\n",
        "nltk.download(\"punkt\")\n",
        "nltk.download('tagsets')"
      ],
      "metadata": {
        "colab": {
          "base_uri": "https://localhost:8080/"
        },
        "id": "97Jwe_p9dE07",
        "outputId": "9ac35304-7144-4872-82a0-25dc9698add4"
      },
      "execution_count": 28,
      "outputs": [
        {
          "output_type": "stream",
          "name": "stderr",
          "text": [
            "[nltk_data] Downloading package averaged_perceptron_tagger to\n",
            "[nltk_data]     /root/nltk_data...\n",
            "[nltk_data]   Unzipping taggers/averaged_perceptron_tagger.zip.\n",
            "[nltk_data] Downloading package punkt to /root/nltk_data...\n",
            "[nltk_data]   Package punkt is already up-to-date!\n",
            "[nltk_data] Downloading package tagsets to /root/nltk_data...\n",
            "[nltk_data]   Package tagsets is already up-to-date!\n"
          ]
        },
        {
          "output_type": "execute_result",
          "data": {
            "text/plain": [
              "True"
            ]
          },
          "metadata": {},
          "execution_count": 28
        }
      ]
    },
    {
      "cell_type": "code",
      "source": [
        "# JJ - ADJECTIVES\n",
        "# NN - NOUNS\n",
        "# RB - ADVERBS\n",
        "# PRB - PRONOUNS\n",
        "# VB - VERBS\n",
        "sagan_quote =\"\"\"\n",
        "If you wish to make an apple pie from scratch,\n",
        "you must first invent the universe.\"\"\"\n",
        "words_in_sagan_quote = word_tokenize(sagan_quote)\n",
        "# call nltk.pos_tag on list of words:\n",
        "tag_list=nltk.pos_tag(words_in_sagan_quote)\n",
        "#All the words in the quote are now in a separate tuple, with\n",
        "print(tag_list)"
      ],
      "metadata": {
        "colab": {
          "base_uri": "https://localhost:8080/"
        },
        "id": "xOuh4qtwdEcn",
        "outputId": "9ac27e98-3b29-406a-a852-4e894c7c1303"
      },
      "execution_count": 32,
      "outputs": [
        {
          "output_type": "stream",
          "name": "stdout",
          "text": [
            "[('If', 'IN'), ('you', 'PRP'), ('wish', 'VBP'), ('to', 'TO'), ('make', 'VB'), ('an', 'DT'), ('apple', 'NN'), ('pie', 'NN'), ('from', 'IN'), ('scratch', 'NN'), (',', ','), ('you', 'PRP'), ('must', 'MD'), ('first', 'VB'), ('invent', 'VB'), ('the', 'DT'), ('universe', 'NN'), ('.', '.')]\n"
          ]
        }
      ]
    },
    {
      "cell_type": "code",
      "source": [
        "# use following function to get a list of tags and their meanings\n",
        "tag_set= nltk.help.upenn_tagset()\n",
        "print(tag_set)"
      ],
      "metadata": {
        "colab": {
          "base_uri": "https://localhost:8080/"
        },
        "id": "O413d0rIgABF",
        "outputId": "b0a9bd97-7f76-4679-d6c2-8f5d41fb66d0"
      },
      "execution_count": 33,
      "outputs": [
        {
          "output_type": "stream",
          "name": "stdout",
          "text": [
            "$: dollar\n",
            "    $ -$ --$ A$ C$ HK$ M$ NZ$ S$ U.S.$ US$\n",
            "'': closing quotation mark\n",
            "    ' ''\n",
            "(: opening parenthesis\n",
            "    ( [ {\n",
            "): closing parenthesis\n",
            "    ) ] }\n",
            ",: comma\n",
            "    ,\n",
            "--: dash\n",
            "    --\n",
            ".: sentence terminator\n",
            "    . ! ?\n",
            ":: colon or ellipsis\n",
            "    : ; ...\n",
            "CC: conjunction, coordinating\n",
            "    & 'n and both but either et for less minus neither nor or plus so\n",
            "    therefore times v. versus vs. whether yet\n",
            "CD: numeral, cardinal\n",
            "    mid-1890 nine-thirty forty-two one-tenth ten million 0.5 one forty-\n",
            "    seven 1987 twenty '79 zero two 78-degrees eighty-four IX '60s .025\n",
            "    fifteen 271,124 dozen quintillion DM2,000 ...\n",
            "DT: determiner\n",
            "    all an another any both del each either every half la many much nary\n",
            "    neither no some such that the them these this those\n",
            "EX: existential there\n",
            "    there\n",
            "FW: foreign word\n",
            "    gemeinschaft hund ich jeux habeas Haementeria Herr K'ang-si vous\n",
            "    lutihaw alai je jour objets salutaris fille quibusdam pas trop Monte\n",
            "    terram fiche oui corporis ...\n",
            "IN: preposition or conjunction, subordinating\n",
            "    astride among uppon whether out inside pro despite on by throughout\n",
            "    below within for towards near behind atop around if like until below\n",
            "    next into if beside ...\n",
            "JJ: adjective or numeral, ordinal\n",
            "    third ill-mannered pre-war regrettable oiled calamitous first separable\n",
            "    ectoplasmic battery-powered participatory fourth still-to-be-named\n",
            "    multilingual multi-disciplinary ...\n",
            "JJR: adjective, comparative\n",
            "    bleaker braver breezier briefer brighter brisker broader bumper busier\n",
            "    calmer cheaper choosier cleaner clearer closer colder commoner costlier\n",
            "    cozier creamier crunchier cuter ...\n",
            "JJS: adjective, superlative\n",
            "    calmest cheapest choicest classiest cleanest clearest closest commonest\n",
            "    corniest costliest crassest creepiest crudest cutest darkest deadliest\n",
            "    dearest deepest densest dinkiest ...\n",
            "LS: list item marker\n",
            "    A A. B B. C C. D E F First G H I J K One SP-44001 SP-44002 SP-44005\n",
            "    SP-44007 Second Third Three Two * a b c d first five four one six three\n",
            "    two\n",
            "MD: modal auxiliary\n",
            "    can cannot could couldn't dare may might must need ought shall should\n",
            "    shouldn't will would\n",
            "NN: noun, common, singular or mass\n",
            "    common-carrier cabbage knuckle-duster Casino afghan shed thermostat\n",
            "    investment slide humour falloff slick wind hyena override subhumanity\n",
            "    machinist ...\n",
            "NNP: noun, proper, singular\n",
            "    Motown Venneboerger Czestochwa Ranzer Conchita Trumplane Christos\n",
            "    Oceanside Escobar Kreisler Sawyer Cougar Yvette Ervin ODI Darryl CTCA\n",
            "    Shannon A.K.C. Meltex Liverpool ...\n",
            "NNPS: noun, proper, plural\n",
            "    Americans Americas Amharas Amityvilles Amusements Anarcho-Syndicalists\n",
            "    Andalusians Andes Andruses Angels Animals Anthony Antilles Antiques\n",
            "    Apache Apaches Apocrypha ...\n",
            "NNS: noun, common, plural\n",
            "    undergraduates scotches bric-a-brac products bodyguards facets coasts\n",
            "    divestitures storehouses designs clubs fragrances averages\n",
            "    subjectivists apprehensions muses factory-jobs ...\n",
            "PDT: pre-determiner\n",
            "    all both half many quite such sure this\n",
            "POS: genitive marker\n",
            "    ' 's\n",
            "PRP: pronoun, personal\n",
            "    hers herself him himself hisself it itself me myself one oneself ours\n",
            "    ourselves ownself self she thee theirs them themselves they thou thy us\n",
            "PRP$: pronoun, possessive\n",
            "    her his mine my our ours their thy your\n",
            "RB: adverb\n",
            "    occasionally unabatingly maddeningly adventurously professedly\n",
            "    stirringly prominently technologically magisterially predominately\n",
            "    swiftly fiscally pitilessly ...\n",
            "RBR: adverb, comparative\n",
            "    further gloomier grander graver greater grimmer harder harsher\n",
            "    healthier heavier higher however larger later leaner lengthier less-\n",
            "    perfectly lesser lonelier longer louder lower more ...\n",
            "RBS: adverb, superlative\n",
            "    best biggest bluntest earliest farthest first furthest hardest\n",
            "    heartiest highest largest least less most nearest second tightest worst\n",
            "RP: particle\n",
            "    aboard about across along apart around aside at away back before behind\n",
            "    by crop down ever fast for forth from go high i.e. in into just later\n",
            "    low more off on open out over per pie raising start teeth that through\n",
            "    under unto up up-pp upon whole with you\n",
            "SYM: symbol\n",
            "    % & ' '' ''. ) ). * + ,. < = > @ A[fj] U.S U.S.S.R * ** ***\n",
            "TO: \"to\" as preposition or infinitive marker\n",
            "    to\n",
            "UH: interjection\n",
            "    Goodbye Goody Gosh Wow Jeepers Jee-sus Hubba Hey Kee-reist Oops amen\n",
            "    huh howdy uh dammit whammo shucks heck anyways whodunnit honey golly\n",
            "    man baby diddle hush sonuvabitch ...\n",
            "VB: verb, base form\n",
            "    ask assemble assess assign assume atone attention avoid bake balkanize\n",
            "    bank begin behold believe bend benefit bevel beware bless boil bomb\n",
            "    boost brace break bring broil brush build ...\n",
            "VBD: verb, past tense\n",
            "    dipped pleaded swiped regummed soaked tidied convened halted registered\n",
            "    cushioned exacted snubbed strode aimed adopted belied figgered\n",
            "    speculated wore appreciated contemplated ...\n",
            "VBG: verb, present participle or gerund\n",
            "    telegraphing stirring focusing angering judging stalling lactating\n",
            "    hankerin' alleging veering capping approaching traveling besieging\n",
            "    encrypting interrupting erasing wincing ...\n",
            "VBN: verb, past participle\n",
            "    multihulled dilapidated aerosolized chaired languished panelized used\n",
            "    experimented flourished imitated reunifed factored condensed sheared\n",
            "    unsettled primed dubbed desired ...\n",
            "VBP: verb, present tense, not 3rd person singular\n",
            "    predominate wrap resort sue twist spill cure lengthen brush terminate\n",
            "    appear tend stray glisten obtain comprise detest tease attract\n",
            "    emphasize mold postpone sever return wag ...\n",
            "VBZ: verb, present tense, 3rd person singular\n",
            "    bases reconstructs marks mixes displeases seals carps weaves snatches\n",
            "    slumps stretches authorizes smolders pictures emerges stockpiles\n",
            "    seduces fizzes uses bolsters slaps speaks pleads ...\n",
            "WDT: WH-determiner\n",
            "    that what whatever which whichever\n",
            "WP: WH-pronoun\n",
            "    that what whatever whatsoever which who whom whosoever\n",
            "WP$: WH-pronoun, possessive\n",
            "    whose\n",
            "WRB: Wh-adverb\n",
            "    how however whence whenever where whereby whereever wherein whereof why\n",
            "``: opening quotation mark\n",
            "    ` ``\n",
            "None\n"
          ]
        }
      ]
    }
  ],
  "metadata": {
    "colab": {
      "provenance": [],
      "include_colab_link": true
    },
    "kernelspec": {
      "display_name": "Python 3",
      "name": "python3"
    }
  },
  "nbformat": 4,
  "nbformat_minor": 0
}